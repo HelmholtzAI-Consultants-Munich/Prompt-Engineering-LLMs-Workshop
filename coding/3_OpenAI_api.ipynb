{
 "cells": [
  {
   "cell_type": "markdown",
   "metadata": {},
   "source": [
    "<a target=\"_blank\" href=\"https://colab.research.google.com/github/HelmholtzAI-Consultants-Munich/Prompt-Engineering-LLMs-Workshop/blob/hitec-workshop-03-25/coding/3_OpenAI_api.ipynb\">\n",
    "  <img src=\"https://colab.research.google.com/assets/colab-badge.svg\" alt=\"Open In Colab\"/>\n",
    "</a>\n",
    "\n",
    "## Exercise: Using the OpenAI API with Blablador\n",
    "In this exercise, we will use Blablador’s OpenAI API to process input in a programmatic way. We will review customer feedback from an online shop. Your job here is to write system and user prompts to extract key information from each review into json format"
   ]
  },
  {
   "cell_type": "markdown",
   "metadata": {},
   "source": [
    "### Install openai package\n",
    "Simply run `pip install openai` (already available in colab)"
   ]
  },
  {
   "cell_type": "code",
   "execution_count": null,
   "metadata": {},
   "outputs": [],
   "source": [
    "# Copy the repo to colab\n",
    "\n",
    "!git clone https://github.com/HelmholtzAI-Consultants-Munich/Prompt-Engineering-LLMs-Workshop --branch hitec-workshop-03-25\n",
    "!cd Prompt-Engineering-LLMs-Workshop"
   ]
  },
  {
   "cell_type": "markdown",
   "metadata": {},
   "source": [
    "### Set up Open AI client"
   ]
  },
  {
   "cell_type": "code",
   "execution_count": null,
   "metadata": {},
   "outputs": [],
   "source": [
    "API_KEY = ... # your API key"
   ]
  },
  {
   "cell_type": "code",
   "execution_count": 12,
   "metadata": {},
   "outputs": [],
   "source": [
    "import openai\n",
    "\n",
    "client = openai.OpenAI(\n",
    "    base_url=\"https://api.helmholtz-blablador.fz-juelich.de/v1\",\n",
    "    api_key=API_KEY\n",
    ")\n",
    "\n",
    "# Define the model (list of available models on Blablador)\n",
    "model_name = \"1 - Ministral - 8b - out best fast model as november 2024\"  "
   ]
  },
  {
   "cell_type": "markdown",
   "metadata": {},
   "source": [
    "### Write down your prompts\n",
    "[This article](https://www.nebuly.com/blog/llm-system-prompt-vs-user-prompt) might help you to better grasp the difference between system and user prompts.\n",
    "\n",
    "The following prompts are very poorly written, you can try to run the following cell with them and see the problem. How can we make it better?"
   ]
  },
  {
   "cell_type": "code",
   "execution_count": null,
   "metadata": {},
   "outputs": [],
   "source": [
    "system_prompt = \"You are a json extractor\"\n",
    "\n",
    "user_prompt = \"extract relevant information from the following review: \""
   ]
  },
  {
   "cell_type": "markdown",
   "metadata": {},
   "source": [
    "### Iterating through examples\n",
    "Now we will go through [the examples](src/sample_product_reviews.txt) and test the prompts!"
   ]
  },
  {
   "cell_type": "code",
   "execution_count": null,
   "metadata": {},
   "outputs": [],
   "source": [
    "with open(\"src/sample_product_reviews.txt\", \"r\") as file:\n",
    "    for i, review in enumerate(file):\n",
    "        try:\n",
    "            response = client.chat.completions.create(\n",
    "                model=model_name,\n",
    "                messages=[{\"role\": \"system\", \"content\": system_prompt},\n",
    "                        {\"role\": \"user\", \"content\": user_prompt + review}],\n",
    "                temperature=0.7\n",
    "            )\n",
    "            print(f\"-------------- Review n {i+1} --------------\")\n",
    "            print(response.choices[0].message.content)\n",
    "\n",
    "\n",
    "        except Exception as e:\n",
    "            print(\"Error:\", e)"
   ]
  }
 ],
 "metadata": {
  "kernelspec": {
   "display_name": "openai_env",
   "language": "python",
   "name": "python3"
  },
  "language_info": {
   "codemirror_mode": {
    "name": "ipython",
    "version": 3
   },
   "file_extension": ".py",
   "mimetype": "text/x-python",
   "name": "python",
   "nbconvert_exporter": "python",
   "pygments_lexer": "ipython3",
   "version": "3.12.9"
  }
 },
 "nbformat": 4,
 "nbformat_minor": 2
}
